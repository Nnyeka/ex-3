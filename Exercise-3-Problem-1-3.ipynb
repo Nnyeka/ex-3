{
 "cells": [
  {
   "cell_type": "markdown",
   "metadata": {},
   "source": [
    "## Problem 1: Geocode shopping centers (5 points)\n",
    "\n",
    "The overall aim of problems 1-3 is to find out **how many people live within a walking distance (1.5 km) from certain shopping centers in Helsinki**.\n",
    "\n",
    "In problem 1 aim is to find out the addresses of shopping centers and to retreive numercal coordinates for these addresses. As an output, we will have a Shapefile called `shopping_centers.shp` which contains the geocoded result.\n",
    "\n",
    "**Preparation:** Find out the addresses for following shopping centers from the internet, and write the addresses into a text file called `shopping_centers.txt`:\n",
    "\n",
    " - Itis\n",
    " - Forum\n",
    " - Iso-omena\n",
    " - Sello\n",
    " - Jumbo\n",
    " - REDI\n",
    " - Tripla \n",
    " \n",
    " *Hint for \"Tripla\": This shopping center opened in October 10 2019, and if you are doing this exercise soon after that, the official address might not yet be in online databases. \n",
    " Check for an address nearby the Pasila railway station on OpenStreetMap.org and use that as input.*\n",
    "\n",
    "`shopping_centers.txt` should have semicolon (`;`) as a separator, and the file should include the following columns:\n",
    "\n",
    "- ``id`` (integer) containing an unique identifier for each shopping center\n",
    "- ``name`` (string) of each shopping center\n",
    "- ``addr`` (string) the address \n",
    "\n",
    "\n",
    "See and example of how to format the text file [in the lesson 3 materials](https://automating-gis-processes.github.io/site/master/notebooks/L3/geocoding_in_geopandas.html). Save (and upload) the text file into your exercise repository.\n",
    "\n",
    "- Read `shopping_centers.txt` that you just created into a pandas DataFrame called ``data``:"
   ]
  },
  {
   "cell_type": "code",
   "execution_count": 78,
   "metadata": {
    "deletable": false,
    "nbgrader": {
     "cell_type": "code",
     "checksum": "7de89a15a19f7c81c62cc7fe98d6b668",
     "grade": false,
     "grade_id": "read_data",
     "locked": false,
     "schema_version": 3,
     "solution": true
    }
   },
   "outputs": [],
   "source": [
    "# Import modules\n",
    "import pandas as pd\n",
    "import geopandas as gpd\n",
    "from shapely.geometry import Point\n",
    "from geopandas.tools import geocode\n",
    "\n",
    "\n",
    "# Read the data (replace \"None\" with your own code)\n",
    "data = pd.read_csv('shopping_centers.txt', sep=\";\")\n"
   ]
  },
  {
   "cell_type": "code",
   "execution_count": 79,
   "metadata": {
    "deletable": false,
    "editable": false,
    "nbgrader": {
     "cell_type": "code",
     "checksum": "4e90dc0406dff7a0f4b0860443092087",
     "grade": true,
     "grade_id": "problem_1_read_data_tests",
     "locked": true,
     "points": 1,
     "schema_version": 3,
     "solution": false
    }
   },
   "outputs": [
    {
     "name": "stdout",
     "output_type": "stream",
     "text": [
      "   id       name                                            addr\n",
      "0   0       Itis            Itäkatu 1-7, 00930 Helsinki, Finland\n",
      "1   1      Forum  Mannerheimintie 14-20, 00100 Helsinki, Finland\n",
      "2   2  Iso-Omena           Piispansilta 11, 02230 Espoo, Finland\n",
      "3   3      Sello       Leppävaarankatu 3-9, 02600 Espoo, Finland\n",
      "4   4      Jumbo               Vantaanportinkatu 3, 01510 Vantaa\n",
      "5   5       REDI            Hermannin rantatie 5, 00580 Helsinki\n",
      "6   6     Tripla                 Pasilansilta 11, 00520 Helsinki\n"
     ]
    }
   ],
   "source": [
    "#NON-EDITABLE TEST CELL\n",
    "# Check your input data\n",
    "print(data)"
   ]
  },
  {
   "cell_type": "markdown",
   "metadata": {},
   "source": [
    "- Geocode the addresses using the Nominatim geocoding service. Store the output in a variable called `geo`:"
   ]
  },
  {
   "cell_type": "code",
   "execution_count": 80,
   "metadata": {
    "deletable": false,
    "nbgrader": {
     "cell_type": "code",
     "checksum": "2feb8b7739bd1a824b39c3a1d0af369f",
     "grade": false,
     "grade_id": "geocode",
     "locked": false,
     "schema_version": 3,
     "solution": true
    }
   },
   "outputs": [],
   "source": [
    "# Geocode the addresses using Nominatim\n",
    "geo = geocode(data[\"addr\"], provider='nominatim', user_agent='ada', timeout=5)\n"
   ]
  },
  {
   "cell_type": "code",
   "execution_count": 81,
   "metadata": {
    "deletable": false,
    "editable": false,
    "nbgrader": {
     "cell_type": "code",
     "checksum": "a3b8c4fef69c89dbb3299b84c11d3db7",
     "grade": true,
     "grade_id": "problem_1_gdf_test",
     "locked": true,
     "points": 1,
     "schema_version": 3,
     "solution": false,
     "task": false
    }
   },
   "outputs": [
    {
     "name": "stdout",
     "output_type": "stream",
     "text": [
      "                    geometry  \\\n",
      "0  POINT (25.08257 60.21203)   \n",
      "1  POINT (24.93828 60.16878)   \n",
      "2  POINT (24.73904 60.16043)   \n",
      "3  POINT (24.81042 60.21752)   \n",
      "4  POINT (24.96282 60.29245)   \n",
      "5  POINT (24.97904 60.18702)   \n",
      "6  POINT (24.93433 60.19821)   \n",
      "\n",
      "                                             address  \n",
      "0  Cafe bar Bailey's, 1-7, Itäkatu, Itäkeskus, Va...  \n",
      "1  Salaattiasema, 14-20, Mannerheimintie, Keskust...  \n",
      "2  Luckiefun's Iso Omena, 11, Piispansilta, Matin...  \n",
      "3  Lasten kappeli Arkki, 3-9, Leppävaarankatu, Sä...  \n",
      "4  Stockmann, 3, Vantaanportinkatu, Vantaanportti...  \n",
      "5  Silta, 5, Hermannin rantatie, Verkkosaari, Kal...  \n",
      "6  Pasilansilta, Keski-Pasila, Pasila, Keskinen s...  \n"
     ]
    }
   ],
   "source": [
    "#NON-EDITABLE TEST CELL\n",
    "# Check the geocoded output\n",
    "print(geo)"
   ]
  },
  {
   "cell_type": "code",
   "execution_count": 82,
   "metadata": {
    "deletable": false,
    "editable": false,
    "nbgrader": {
     "cell_type": "code",
     "checksum": "f2e432e605330a668b5bfdbbbd12569e",
     "grade": true,
     "grade_id": "problem_1_geocode_tests",
     "locked": true,
     "points": 1,
     "schema_version": 3,
     "solution": false
    }
   },
   "outputs": [
    {
     "name": "stdout",
     "output_type": "stream",
     "text": [
      "<class 'geopandas.geodataframe.GeoDataFrame'>\n"
     ]
    }
   ],
   "source": [
    "#NON-EDITABLE TEST CELL\n",
    "# Check the data type (should be a GeoDataFrame!)\n",
    "print(type(geo))"
   ]
  },
  {
   "cell_type": "markdown",
   "metadata": {},
   "source": [
    "Check that the coordinate reference system of the geocoded result is correctly defined, and **reproject the layer into ETRS GK-25** (EPSG:3879):"
   ]
  },
  {
   "cell_type": "code",
   "execution_count": 83,
   "metadata": {
    "deletable": false,
    "nbgrader": {
     "cell_type": "code",
     "checksum": "b0159d35f45f5454fae6b5d67858b986",
     "grade": false,
     "grade_id": "crs",
     "locked": false,
     "schema_version": 3,
     "solution": true
    }
   },
   "outputs": [],
   "source": [
    "geo = geo.to_crs(3879)"
   ]
  },
  {
   "cell_type": "code",
   "execution_count": 84,
   "metadata": {
    "deletable": false,
    "editable": false,
    "nbgrader": {
     "cell_type": "code",
     "checksum": "764cba257612241267e3b2bcc90b5dcd",
     "grade": true,
     "grade_id": "problem_1_crs_test",
     "locked": true,
     "points": 0.5,
     "schema_version": 3,
     "solution": false
    }
   },
   "outputs": [
    {
     "name": "stdout",
     "output_type": "stream",
     "text": [
      "epsg:3879\n"
     ]
    }
   ],
   "source": [
    "#NON-EDITABLE TEST CELL\n",
    "# Check layer crs\n",
    "print(geo.crs)"
   ]
  },
  {
   "cell_type": "markdown",
   "metadata": {},
   "source": [
    "- Make a table join between the geocoded addresses (``geo``) and the original addresses (``data``) in order to link the numerical coordinates and  the `id` and `name` of each shopping center. \n",
    "- Store the output in a variable called ``geodata`` \n"
   ]
  },
  {
   "cell_type": "code",
   "execution_count": 85,
   "metadata": {
    "deletable": false,
    "nbgrader": {
     "cell_type": "code",
     "checksum": "aca9ef4ece824d53650aec8c0fafc38d",
     "grade": false,
     "grade_id": "join",
     "locked": false,
     "schema_version": 3,
     "solution": true
    }
   },
   "outputs": [
    {
     "data": {
      "text/plain": [
       "7"
      ]
     },
     "execution_count": 85,
     "metadata": {},
     "output_type": "execute_result"
    }
   ],
   "source": [
    "# Join the tables\n",
    "geodata = geo.join(data)\n",
    "len(geodata)"
   ]
  },
  {
   "cell_type": "code",
   "execution_count": 86,
   "metadata": {
    "deletable": false,
    "editable": false,
    "nbgrader": {
     "cell_type": "code",
     "checksum": "98d25baeb42eaeb2701f09f42c8c84c5",
     "grade": true,
     "grade_id": "problem_1_join_test",
     "locked": true,
     "points": 1,
     "schema_version": 3,
     "solution": false
    }
   },
   "outputs": [
    {
     "name": "stdout",
     "output_type": "stream",
     "text": [
      "                           geometry  \\\n",
      "0  POINT (25504577.702 6677699.290)   \n",
      "1  POINT (25496573.542 6672878.360)   \n",
      "2  POINT (25485509.197 6671975.463)   \n",
      "3  POINT (25489491.076 6678322.265)   \n",
      "4  POINT (25497943.932 6686656.982)   \n",
      "\n",
      "                                             address  id       name  \\\n",
      "0  Cafe bar Bailey's, 1-7, Itäkatu, Itäkeskus, Va...   0       Itis   \n",
      "1  Salaattiasema, 14-20, Mannerheimintie, Keskust...   1      Forum   \n",
      "2  Luckiefun's Iso Omena, 11, Piispansilta, Matin...   2  Iso-Omena   \n",
      "3  Lasten kappeli Arkki, 3-9, Leppävaarankatu, Sä...   3      Sello   \n",
      "4  Stockmann, 3, Vantaanportinkatu, Vantaanportti...   4      Jumbo   \n",
      "\n",
      "                                             addr  \n",
      "0            Itäkatu 1-7, 00930 Helsinki, Finland  \n",
      "1  Mannerheimintie 14-20, 00100 Helsinki, Finland  \n",
      "2           Piispansilta 11, 02230 Espoo, Finland  \n",
      "3       Leppävaarankatu 3-9, 02600 Espoo, Finland  \n",
      "4               Vantaanportinkatu 3, 01510 Vantaa  \n"
     ]
    }
   ],
   "source": [
    "#NON-EDITABLE TEST CELL\n",
    "# Check the join output\n",
    "print(geodata.head())"
   ]
  },
  {
   "cell_type": "markdown",
   "metadata": {},
   "source": [
    "- Save the output as a Shapefile called `shopping_centers.shp` "
   ]
  },
  {
   "cell_type": "code",
   "execution_count": 87,
   "metadata": {
    "deletable": false,
    "nbgrader": {
     "cell_type": "code",
     "checksum": "362eacaf5abe4a319dda3a28a04ef594",
     "grade": false,
     "grade_id": "save_data",
     "locked": false,
     "schema_version": 3,
     "solution": true
    }
   },
   "outputs": [],
   "source": [
    "# Define output filepath\n",
    "out_fp = r\"shopping_centers.shp\"\n",
    "\n",
    "# Save file\n",
    "# Filepath\n",
    "geodata.to_file(out_fp)"
   ]
  },
  {
   "cell_type": "code",
   "execution_count": 88,
   "metadata": {
    "deletable": false,
    "editable": false,
    "nbgrader": {
     "cell_type": "code",
     "checksum": "80aac786841c50c2fd08ca078bc13a56",
     "grade": true,
     "grade_id": "problem_1_save_data_test",
     "locked": true,
     "points": 0.5,
     "schema_version": 3,
     "solution": false
    }
   },
   "outputs": [
    {
     "name": "stdout",
     "output_type": "stream",
     "text": [
      "Geocoded output is stored in this file: shopping_centers.shp\n"
     ]
    }
   ],
   "source": [
    "#NON-EDITABLE TEST CELL\n",
    "# Print info about output file\n",
    "print(\"Geocoded output is stored in this file:\", out_fp)"
   ]
  },
  {
   "cell_type": "markdown",
   "metadata": {},
   "source": [
    "## Problem 2: Create buffers around shopping centers (5 points)\n",
    "\n",
    "Let's continue with our case study and calculate a 1.5 km buffer around the geocoded points. \n",
    "\n",
    "\n",
    "- Start by creating a new column called `buffer` to ``geodata`` GeoDataFrame:"
   ]
  },
  {
   "cell_type": "code",
   "execution_count": 89,
   "metadata": {
    "deletable": false,
    "nbgrader": {
     "cell_type": "code",
     "checksum": "908d9a6ea9f7776e8eeeefcfe920c9a0",
     "grade": false,
     "grade_id": "new_column",
     "locked": false,
     "schema_version": 3,
     "solution": true
    }
   },
   "outputs": [],
   "source": [
    "geodata['buffer'] = \"\""
   ]
  },
  {
   "cell_type": "markdown",
   "metadata": {},
   "source": [
    "- Calculate a 1.5 km buffer for each geocoded point. Store the buffer geometry in the new `buffer` column.\n",
    "\n",
    "Here, you can use the [GeoDataFrame buffer() method](http://geopandas.org/geometric_manipulations.html#GeoSeries.buffer), which uses Shapely's [buffer](http://toblerity.org/shapely/manual.html#object.buffer) in the bacground. You only need to use the `distance` -parameter, don't worry about the other parameters."
   ]
  },
  {
   "cell_type": "code",
   "execution_count": 90,
   "metadata": {
    "deletable": false,
    "nbgrader": {
     "cell_type": "code",
     "checksum": "f45cb9b3fa88f50f0f83991d3f132643",
     "grade": false,
     "grade_id": "buffer",
     "locked": false,
     "schema_version": 3,
     "solution": true
    }
   },
   "outputs": [],
   "source": [
    "geodata['buffer'] = geodata.buffer(distance=1500)"
   ]
  },
  {
   "cell_type": "code",
   "execution_count": 91,
   "metadata": {
    "deletable": false,
    "editable": false,
    "nbgrader": {
     "cell_type": "code",
     "checksum": "e2765a36c4eb2331624d3b990eccfe9f",
     "grade": true,
     "grade_id": "problem_2_column_test",
     "locked": true,
     "points": 1,
     "schema_version": 3,
     "solution": false,
     "task": false
    }
   },
   "outputs": [
    {
     "name": "stdout",
     "output_type": "stream",
     "text": [
      "                           geometry  \\\n",
      "0  POINT (25504577.702 6677699.290)   \n",
      "1  POINT (25496573.542 6672878.360)   \n",
      "2  POINT (25485509.197 6671975.463)   \n",
      "3  POINT (25489491.076 6678322.265)   \n",
      "4  POINT (25497943.932 6686656.982)   \n",
      "\n",
      "                                             address  id       name  \\\n",
      "0  Cafe bar Bailey's, 1-7, Itäkatu, Itäkeskus, Va...   0       Itis   \n",
      "1  Salaattiasema, 14-20, Mannerheimintie, Keskust...   1      Forum   \n",
      "2  Luckiefun's Iso Omena, 11, Piispansilta, Matin...   2  Iso-Omena   \n",
      "3  Lasten kappeli Arkki, 3-9, Leppävaarankatu, Sä...   3      Sello   \n",
      "4  Stockmann, 3, Vantaanportinkatu, Vantaanportti...   4      Jumbo   \n",
      "\n",
      "                                             addr  \\\n",
      "0            Itäkatu 1-7, 00930 Helsinki, Finland   \n",
      "1  Mannerheimintie 14-20, 00100 Helsinki, Finland   \n",
      "2           Piispansilta 11, 02230 Espoo, Finland   \n",
      "3       Leppävaarankatu 3-9, 02600 Espoo, Finland   \n",
      "4               Vantaanportinkatu 3, 01510 Vantaa   \n",
      "\n",
      "                                              buffer  \n",
      "0  POLYGON ((25506077.702 6677699.290, 25506070.4...  \n",
      "1  POLYGON ((25498073.542 6672878.360, 25498066.3...  \n",
      "2  POLYGON ((25487009.197 6671975.463, 25487001.9...  \n",
      "3  POLYGON ((25490991.076 6678322.265, 25490983.8...  \n",
      "4  POLYGON ((25499443.932 6686656.982, 25499436.7...  \n"
     ]
    }
   ],
   "source": [
    "#NON-EDITABLE TEST CELL\n",
    "print(geodata.head())"
   ]
  },
  {
   "cell_type": "code",
   "execution_count": 92,
   "metadata": {
    "deletable": false,
    "editable": false,
    "nbgrader": {
     "cell_type": "code",
     "checksum": "3aa92b08ec2320d792f9de905622df3d",
     "grade": true,
     "grade_id": "problem_2_shape_test",
     "locked": true,
     "points": 1,
     "schema_version": 3,
     "solution": false,
     "task": false
    }
   },
   "outputs": [
    {
     "name": "stdout",
     "output_type": "stream",
     "text": [
      "<class 'shapely.geometry.polygon.Polygon'>\n"
     ]
    }
   ],
   "source": [
    "#NON-EDITABLE TEST CELL\n",
    "# Check the data type of the first value in the buffer-column\n",
    "print(type(geodata.at[0,'buffer']))"
   ]
  },
  {
   "cell_type": "code",
   "execution_count": 93,
   "metadata": {
    "deletable": false,
    "editable": false,
    "nbgrader": {
     "cell_type": "code",
     "checksum": "d6e0fe9059fff655e76e4ca36a024253",
     "grade": true,
     "grade_id": "problem_2_buffer_test",
     "locked": true,
     "points": 2,
     "schema_version": 3,
     "solution": false
    }
   },
   "outputs": [
    {
     "name": "stdout",
     "output_type": "stream",
     "text": [
      "0    7.0\n",
      "1    7.0\n",
      "2    7.0\n",
      "3    7.0\n",
      "4    7.0\n",
      "5    7.0\n",
      "6    7.0\n",
      "dtype: float64\n"
     ]
    }
   ],
   "source": [
    "#NON-EDITABLE TEST CELL\n",
    "# Check the areas of your buffers in km^2\n",
    "print(round(gpd.GeoSeries(geodata[\"buffer\"]).area / 1000000))"
   ]
  },
  {
   "cell_type": "markdown",
   "metadata": {},
   "source": [
    "- Replace the values in `geometry` column with the values of `buffer` column:"
   ]
  },
  {
   "cell_type": "code",
   "execution_count": 94,
   "metadata": {
    "deletable": false,
    "nbgrader": {
     "cell_type": "code",
     "checksum": "4dbc3cfc149f2391c1c6b4274603a8e9",
     "grade": false,
     "grade_id": "geometry",
     "locked": false,
     "schema_version": 3,
     "solution": true
    }
   },
   "outputs": [],
   "source": [
    "geodata_copy = geodata.copy()\n",
    "geodata['geometry'] = geodata['buffer']"
   ]
  },
  {
   "cell_type": "code",
   "execution_count": 95,
   "metadata": {
    "deletable": false,
    "editable": false,
    "nbgrader": {
     "cell_type": "code",
     "checksum": "47a972c42e423c1597440885fa571d34",
     "grade": true,
     "grade_id": "problem_2_geometry_test",
     "locked": true,
     "points": 1,
     "schema_version": 3,
     "solution": false
    }
   },
   "outputs": [
    {
     "name": "stdout",
     "output_type": "stream",
     "text": [
      "                                            geometry  \\\n",
      "0  POLYGON ((25506077.702 6677699.290, 25506070.4...   \n",
      "1  POLYGON ((25498073.542 6672878.360, 25498066.3...   \n",
      "2  POLYGON ((25487009.197 6671975.463, 25487001.9...   \n",
      "3  POLYGON ((25490991.076 6678322.265, 25490983.8...   \n",
      "4  POLYGON ((25499443.932 6686656.982, 25499436.7...   \n",
      "\n",
      "                                             address  id       name  \\\n",
      "0  Cafe bar Bailey's, 1-7, Itäkatu, Itäkeskus, Va...   0       Itis   \n",
      "1  Salaattiasema, 14-20, Mannerheimintie, Keskust...   1      Forum   \n",
      "2  Luckiefun's Iso Omena, 11, Piispansilta, Matin...   2  Iso-Omena   \n",
      "3  Lasten kappeli Arkki, 3-9, Leppävaarankatu, Sä...   3      Sello   \n",
      "4  Stockmann, 3, Vantaanportinkatu, Vantaanportti...   4      Jumbo   \n",
      "\n",
      "                                             addr  \\\n",
      "0            Itäkatu 1-7, 00930 Helsinki, Finland   \n",
      "1  Mannerheimintie 14-20, 00100 Helsinki, Finland   \n",
      "2           Piispansilta 11, 02230 Espoo, Finland   \n",
      "3       Leppävaarankatu 3-9, 02600 Espoo, Finland   \n",
      "4               Vantaanportinkatu 3, 01510 Vantaa   \n",
      "\n",
      "                                              buffer  \n",
      "0  POLYGON ((25506077.702 6677699.290, 25506070.4...  \n",
      "1  POLYGON ((25498073.542 6672878.360, 25498066.3...  \n",
      "2  POLYGON ((25487009.197 6671975.463, 25487001.9...  \n",
      "3  POLYGON ((25490991.076 6678322.265, 25490983.8...  \n",
      "4  POLYGON ((25499443.932 6686656.982, 25499436.7...  \n"
     ]
    }
   ],
   "source": [
    "#NON-EDITABLE TEST CELL\n",
    "print(geodata.head())"
   ]
  },
  {
   "cell_type": "markdown",
   "metadata": {},
   "source": [
    "Optional: at this point, you can drop out unnecessary columns from the geodataframe. In the next problem, \n",
    "we will only need these columns: `'id', 'name', 'geometry'`"
   ]
  },
  {
   "cell_type": "raw",
   "metadata": {},
   "source": [
    "geodata = geodata.drop(['address', 'addr', 'buffer'], axis = 1)"
   ]
  },
  {
   "cell_type": "markdown",
   "metadata": {},
   "source": [
    "## Problem 3: How many people live near shopping centers? (5 points)\n",
    "\n",
    "Last step in our analysis is to make a spatial join between our buffer layer and population data in order to find out **how many people live near each shopping center**. We will use the same data as we did during [lesson 3](https://automating-gis-processes.github.io/site/notebooks/L3/spatial-join.html#Spatial-join); **a Population Grid** that is available via the HSY wfs. \n",
    "\n",
    "Alternatively, you can also download the data from the [Helsinki Region Infoshare (HRI)](https://www.hsy.fi/fi/asiantuntijalle/avoindata/Sivut/AvoinData.aspx?dataID=7) as a shapefile (using wget).\n",
    "\n",
    "The coordinate reference system of the population grid is **ETRS GK-25 (EPSG:3879)**.\n",
    "\n",
    "\n",
    "**Steps:**\n",
    "\n",
    "- Read the population grid into a geodataframe\n",
    "\n",
    "- Select only the useful columns from the population grid: ``'asukkaita'`` (=population count per grid square) and ``'geometry'`` \n",
    "\n",
    "- Make a spatial join between your buffered point layer and population grid layer. Join the information now from buffer layer **into the population grid layer**\n",
    "\n",
    "- Group the joined layer by shopping center index\n",
    "\n",
    "- Calculate the sum of population living within 1.5 km for each shopping center.\n",
    "\n",
    "**Finally:**\n",
    "\n",
    "- Print out the population living within 1.5 km from each shopping center:\n",
    "\n",
    "     - Itis\n",
    "     - Forum\n",
    "     - Iso-omena\n",
    "     - Sello\n",
    "     - Jumbo\n",
    "     - REDI\n",
    "     - Tripla\n",
    "     \n",
    "**Final print out should contain both the shopping center name and population count**, for example: `26532 people live within 1.5 km from Iso-Omena`.\n",
    "\n",
    "*Feel free to divide your solution into several codeblocks! Remember to comment your code  :)*"
   ]
  },
  {
   "cell_type": "code",
   "execution_count": 122,
   "metadata": {
    "deletable": false,
    "nbgrader": {
     "cell_type": "code",
     "checksum": "629fe93329c8fe47162e31b2cd8c260e",
     "grade": false,
     "grade_id": "read_wfs",
     "locked": false,
     "schema_version": 3,
     "solution": true,
     "task": false
    }
   },
   "outputs": [
    {
     "data": {
      "text/plain": [
       "<AxesSubplot:>"
      ]
     },
     "execution_count": 122,
     "metadata": {},
     "output_type": "execute_result"
    },
    {
     "data": {
      "image/png": "[encoded data removed]",
      "text/plain": [
       "<Figure size 1800x648 with 1 Axes>"
      ]
     },
     "metadata": {
      "needs_background": "light"
     },
     "output_type": "display_data"
    }
   ],
   "source": [
    "from pyproj import CRS\n",
    "import requests\n",
    "import geojson\n",
    "import geopandas as gpd\n",
    "\n",
    "# Specify the url for web feature service\n",
    "url = 'https://kartta.hsy.fi/geoserver/wfs'\n",
    "\n",
    "# Specify parameters (read data in json format).\n",
    "# Available feature types in this particular data source: http://geo.stat.fi/geoserver/vaestoruutu/wfs?service=wfs&version=2.0.0&request=describeFeatureType\n",
    "params = dict(service='WFS',\n",
    "              version='2.0.0',\n",
    "              request='GetFeature',\n",
    "              typeName='asuminen_ja_maankaytto:Vaestotietoruudukko_2018',\n",
    "              outputFormat='json')\n",
    "\n",
    "# Fetch data from WFS using requests\n",
    "r = requests.get(url, params=params)\n",
    "\n",
    "# Create GeoDataFrame from geojson\n",
    "pop = gpd.GeoDataFrame.from_features(geojson.loads(r.content))\n",
    "\n",
    "# Read population grid data for 2018 into a variable `pop`. \n",
    "# Remember to check the crs info!\n",
    "\n",
    "#fp = \"Vaestoruudukko_2018.shp\"\n",
    "\n",
    "#pop = gpd.read_file(fp)\n",
    "\n",
    "#pop = pop.to_crs(3879)\n",
    "\n",
    "# Define crs\n",
    "pop.crs = CRS.from_epsg(3879).to_wkt()\n",
    "\n",
    "pop.crs == geodata.crs\n",
    "\n",
    "#pop = pop[['ASUKKAITA', \"geometry\"]]\n",
    "\n",
    "pop = pop[['asukkaita', \"geometry\"]]\n",
    "\n",
    "pop.crs\n",
    "\n",
    "\n",
    "%matplotlib inline\n",
    "import matplotlib.pyplot as plt\n",
    "\n",
    "# Create a figure with one subplot\n",
    "fig, ax = plt.subplots(figsize=(25,9))\n",
    "\n",
    "# Plot population grid\n",
    "pop.plot(ax=ax)\n",
    "\n",
    "# Plot points\n",
    "geodata.plot(ax=ax, color='red', markersize=0)\n",
    "\n"
   ]
  },
  {
   "cell_type": "code",
   "execution_count": 110,
   "metadata": {
    "deletable": false,
    "editable": false,
    "nbgrader": {
     "cell_type": "code",
     "checksum": "8fe4f1ecd4466cf975714202c832be7e",
     "grade": true,
     "grade_id": "problem_3_read_data_test",
     "locked": true,
     "points": 1,
     "schema_version": 3,
     "solution": false,
     "task": false
    }
   },
   "outputs": [
    {
     "name": "stdout",
     "output_type": "stream",
     "text": [
      "Number of rows: 5832\n",
      "   asukkaita                                           geometry\n",
      "0          9  POLYGON ((25472499.995 6689749.005, 25472499.9...\n",
      "1          5  POLYGON ((25472499.995 6685998.998, 25472499.9...\n",
      "2          8  POLYGON ((25472499.995 6684249.004, 25472499.9...\n"
     ]
    }
   ],
   "source": [
    "#NON-EDITABLE TEST CELL\n",
    "# Check your input data\n",
    "print(\"Number of rows:\", len(pop))\n",
    "print(pop.head(3))"
   ]
  },
  {
   "cell_type": "code",
   "execution_count": 131,
   "metadata": {
    "deletable": false,
    "nbgrader": {
     "cell_type": "code",
     "checksum": "92e87958a8ce4e2b8e5ae77689445df8",
     "grade": false,
     "grade_id": "spatial_join",
     "locked": false,
     "schema_version": 3,
     "solution": true
    }
   },
   "outputs": [
    {
     "name": "stdout",
     "output_type": "stream",
     "text": [
      "423\n"
     ]
    },
    {
     "data": {
      "text/html": [
       "<div>\n",
       "<style scoped>\n",
       "    .dataframe tbody tr th:only-of-type {\n",
       "        vertical-align: middle;\n",
       "    }\n",
       "\n",
       "    .dataframe tbody tr th {\n",
       "        vertical-align: top;\n",
       "    }\n",
       "\n",
       "    .dataframe thead th {\n",
       "        text-align: right;\n",
       "    }\n",
       "</style>\n",
       "<table border=\"1\" class=\"dataframe\">\n",
       "  <thead>\n",
       "    <tr style=\"text-align: right;\">\n",
       "      <th></th>\n",
       "      <th>geometry</th>\n",
       "      <th>address</th>\n",
       "      <th>id</th>\n",
       "      <th>name</th>\n",
       "      <th>addr</th>\n",
       "      <th>buffer</th>\n",
       "      <th>index_right</th>\n",
       "      <th>asukkaita</th>\n",
       "    </tr>\n",
       "  </thead>\n",
       "  <tbody>\n",
       "    <tr>\n",
       "      <th>0</th>\n",
       "      <td>POLYGON ((25506077.702 6677699.290, 25506070.4...</td>\n",
       "      <td>Cafe bar Bailey's, 1-7, Itäkatu, Itäkeskus, Va...</td>\n",
       "      <td>0</td>\n",
       "      <td>Itis</td>\n",
       "      <td>Itäkatu 1-7, 00930 Helsinki, Finland</td>\n",
       "      <td>POLYGON ((25506077.702 6677699.290, 25506070.4...</td>\n",
       "      <td>4916</td>\n",
       "      <td>670</td>\n",
       "    </tr>\n",
       "    <tr>\n",
       "      <th>0</th>\n",
       "      <td>POLYGON ((25506077.702 6677699.290, 25506070.4...</td>\n",
       "      <td>Cafe bar Bailey's, 1-7, Itäkatu, Itäkeskus, Va...</td>\n",
       "      <td>0</td>\n",
       "      <td>Itis</td>\n",
       "      <td>Itäkatu 1-7, 00930 Helsinki, Finland</td>\n",
       "      <td>POLYGON ((25506077.702 6677699.290, 25506070.4...</td>\n",
       "      <td>5222</td>\n",
       "      <td>149</td>\n",
       "    </tr>\n",
       "    <tr>\n",
       "      <th>0</th>\n",
       "      <td>POLYGON ((25506077.702 6677699.290, 25506070.4...</td>\n",
       "      <td>Cafe bar Bailey's, 1-7, Itäkatu, Itäkeskus, Va...</td>\n",
       "      <td>0</td>\n",
       "      <td>Itis</td>\n",
       "      <td>Itäkatu 1-7, 00930 Helsinki, Finland</td>\n",
       "      <td>POLYGON ((25506077.702 6677699.290, 25506070.4...</td>\n",
       "      <td>5161</td>\n",
       "      <td>147</td>\n",
       "    </tr>\n",
       "    <tr>\n",
       "      <th>0</th>\n",
       "      <td>POLYGON ((25506077.702 6677699.290, 25506070.4...</td>\n",
       "      <td>Cafe bar Bailey's, 1-7, Itäkatu, Itäkeskus, Va...</td>\n",
       "      <td>0</td>\n",
       "      <td>Itis</td>\n",
       "      <td>Itäkatu 1-7, 00930 Helsinki, Finland</td>\n",
       "      <td>POLYGON ((25506077.702 6677699.290, 25506070.4...</td>\n",
       "      <td>4978</td>\n",
       "      <td>314</td>\n",
       "    </tr>\n",
       "    <tr>\n",
       "      <th>0</th>\n",
       "      <td>POLYGON ((25506077.702 6677699.290, 25506070.4...</td>\n",
       "      <td>Cafe bar Bailey's, 1-7, Itäkatu, Itäkeskus, Va...</td>\n",
       "      <td>0</td>\n",
       "      <td>Itis</td>\n",
       "      <td>Itäkatu 1-7, 00930 Helsinki, Finland</td>\n",
       "      <td>POLYGON ((25506077.702 6677699.290, 25506070.4...</td>\n",
       "      <td>5101</td>\n",
       "      <td>90</td>\n",
       "    </tr>\n",
       "  </tbody>\n",
       "</table>\n",
       "</div>"
      ],
      "text/plain": [
       "                                            geometry  \\\n",
       "0  POLYGON ((25506077.702 6677699.290, 25506070.4...   \n",
       "0  POLYGON ((25506077.702 6677699.290, 25506070.4...   \n",
       "0  POLYGON ((25506077.702 6677699.290, 25506070.4...   \n",
       "0  POLYGON ((25506077.702 6677699.290, 25506070.4...   \n",
       "0  POLYGON ((25506077.702 6677699.290, 25506070.4...   \n",
       "\n",
       "                                             address  id  name  \\\n",
       "0  Cafe bar Bailey's, 1-7, Itäkatu, Itäkeskus, Va...   0  Itis   \n",
       "0  Cafe bar Bailey's, 1-7, Itäkatu, Itäkeskus, Va...   0  Itis   \n",
       "0  Cafe bar Bailey's, 1-7, Itäkatu, Itäkeskus, Va...   0  Itis   \n",
       "0  Cafe bar Bailey's, 1-7, Itäkatu, Itäkeskus, Va...   0  Itis   \n",
       "0  Cafe bar Bailey's, 1-7, Itäkatu, Itäkeskus, Va...   0  Itis   \n",
       "\n",
       "                                   addr  \\\n",
       "0  Itäkatu 1-7, 00930 Helsinki, Finland   \n",
       "0  Itäkatu 1-7, 00930 Helsinki, Finland   \n",
       "0  Itäkatu 1-7, 00930 Helsinki, Finland   \n",
       "0  Itäkatu 1-7, 00930 Helsinki, Finland   \n",
       "0  Itäkatu 1-7, 00930 Helsinki, Finland   \n",
       "\n",
       "                                              buffer  index_right  asukkaita  \n",
       "0  POLYGON ((25506077.702 6677699.290, 25506070.4...         4916        670  \n",
       "0  POLYGON ((25506077.702 6677699.290, 25506070.4...         5222        149  \n",
       "0  POLYGON ((25506077.702 6677699.290, 25506070.4...         5161        147  \n",
       "0  POLYGON ((25506077.702 6677699.290, 25506070.4...         4978        314  \n",
       "0  POLYGON ((25506077.702 6677699.290, 25506070.4...         5101         90  "
      ]
     },
     "execution_count": 131,
     "metadata": {},
     "output_type": "execute_result"
    }
   ],
   "source": [
    "# Create a spatial join between grid layer and buffer layer. \n",
    "\n",
    "join = gpd.sjoin(geodata, pop, how=\"inner\", predicate=\"contains\")\n",
    "\n",
    "\n",
    "print(len(join))\n",
    "\n",
    "join.head()\n"
   ]
  },
  {
   "cell_type": "code",
   "execution_count": 135,
   "metadata": {
    "deletable": false,
    "nbgrader": {
     "cell_type": "code",
     "checksum": "fe6b621e6f3d39eb5aa375c864268a03",
     "grade": false,
     "grade_id": "print_results",
     "locked": false,
     "schema_version": 3,
     "solution": true,
     "task": false
    }
   },
   "outputs": [
    {
     "name": "stdout",
     "output_type": "stream",
     "text": [
      "            id  index_right  asukkaita\n",
      "name                                  \n",
      "Forum       76       262104      56891\n",
      "Iso-Omena  162       114690      26546\n",
      "Itis         0       379550      20939\n",
      "Jumbo      148       133430      10569\n",
      "REDI       185       140074      24913\n",
      "Sello      189       137689      20965\n",
      "Tripla     324       184842      24163\n"
     ]
    },
    {
     "data": {
      "image/png": "[encoded data removed]",
      "text/plain": [
       "<Figure size 720x432 with 1 Axes>"
      ]
     },
     "metadata": {
      "needs_background": "light"
     },
     "output_type": "display_data"
    }
   ],
   "source": [
    "# Report how many people live within 1.5 km distance from each shopping center\n",
    "grouped = join.groupby(['name']).sum()\n",
    "print(grouped)\n",
    "\n",
    "\n",
    "\n",
    "# Create a figure with one subplot\n",
    "fig, ax = plt.subplots(figsize=(10,6))\n",
    "\n",
    "# Plot the points with population info\n",
    "join.plot(ax=ax, column='asukkaita', cmap=\"Reds\", markersize=15, scheme='quantiles', legend=True);\n",
    "\n",
    "# Add title\n",
    "plt.title(\"Amount of people live within 1.5 km distance from each shopping center\");\n",
    "\n",
    "# Remove white space around the figure\n",
    "plt.tight_layout()\n"
   ]
  },
  {
   "cell_type": "markdown",
   "metadata": {},
   "source": [
    "**Reflections:**\n",
    "    \n",
    "- How challenging did you find problems 1-3 (on scale to 1-5), and why?\n",
    "- What was easy?\n",
    "- What was difficult?"
   ]
  },
  {
   "cell_type": "markdown",
   "metadata": {
    "deletable": false,
    "nbgrader": {
     "cell_type": "markdown",
     "checksum": "ae8c161a5ec09a095453240cd41b6da8",
     "grade": true,
     "grade_id": "problem_3_Check_problem_3",
     "locked": false,
     "points": 4,
     "schema_version": 3,
     "solution": true
    }
   },
   "source": [
    "YOUR ANSWER HERE"
   ]
  },
  {
   "cell_type": "markdown",
   "metadata": {},
   "source": [
    "Well done! Now you can continue to [problem 4](Exercise-3-Problem-4.ipynb)"
   ]
  }
 ],
 "metadata": {
  "anaconda-cloud": {},
  "kernelspec": {
   "display_name": "Python 3 (ipykernel)",
   "language": "python",
   "name": "python3"
  },
  "language_info": {
   "codemirror_mode": {
    "name": "ipython",
    "version": 3
   },
   "file_extension": ".py",
   "mimetype": "text/x-python",
   "name": "python",
   "nbconvert_exporter": "python",
   "pygments_lexer": "ipython3",
   "version": "3.10.5"
  }
 },
 "nbformat": 4,
 "nbformat_minor": 4
}
